{
 "cells": [
  {
   "cell_type": "code",
   "execution_count": 1,
   "metadata": {},
   "outputs": [],
   "source": [
    "import ruckusCore"
   ]
  },
  {
   "cell_type": "code",
   "execution_count": 2,
   "metadata": {},
   "outputs": [],
   "source": [
    "d = ruckusCore.Datasmith()"
   ]
  },
  {
   "cell_type": "code",
   "execution_count": 3,
   "metadata": {},
   "outputs": [
    {
     "data": {
      "application/vnd.jupyter.widget-view+json": {
       "model_id": "e123bd84384d4a309a4ea97e1ec6c16d",
       "version_major": 2,
       "version_minor": 0
      },
      "text/plain": [
       "HBox(children=(FloatProgress(value=0.0, max=29.0), HTML(value='')))"
      ]
     },
     "metadata": {},
     "output_type": "display_data"
    },
    {
     "name": "stdout",
     "output_type": "stream",
     "text": [
      "\u001b[33mALGO/USD NOT up to date... --> 2020-04-01 12:00:00\u001b[0m\n",
      "\u001b[33mDownloading Historical Data ALGO/USD Since 2020-04-01 12:00:00 in 1h Candles\u001b[0m\n",
      "First candle: 2020-04-01T18:00:00.000Z Last candle: 2020-04-03T02:00:00.000Z Candles returned: 33\n",
      "\u001b[36mDownload time was 3.60 secs\u001b[0m\n",
      "\u001b[36mWriting Data to Disk\u001b[0m\n",
      "\u001b[36mSleeping...\u001b[0m\n",
      "\u001b[33mBAT/ETH NOT up to date... --> 2020-04-01 12:00:00\u001b[0m\n",
      "\u001b[33mDownloading Historical Data BAT/ETH Since 2020-04-01 12:00:00 in 1h Candles\u001b[0m\n",
      "First candle: 2020-04-01T18:00:00.000Z Last candle: 2020-04-03T03:00:00.000Z Candles returned: 34\n",
      "\u001b[36mDownload time was 3.14 secs\u001b[0m\n",
      "\u001b[36mWriting Data to Disk\u001b[0m\n",
      "\u001b[36mSleeping...\u001b[0m\n",
      "\u001b[33mBAT/USDC NOT up to date... --> 2020-04-01 12:00:00\u001b[0m\n",
      "\u001b[33mDownloading Historical Data BAT/USDC Since 2020-04-01 12:00:00 in 1h Candles\u001b[0m\n",
      "First candle: 2020-04-01T18:00:00.000Z Last candle: 2020-04-03T03:00:00.000Z Candles returned: 34\n",
      "\u001b[36mDownload time was 3.15 secs\u001b[0m\n",
      "\u001b[36mWriting Data to Disk\u001b[0m\n",
      "\u001b[36mSleeping...\u001b[0m\n",
      "\u001b[33mBCH/BTC NOT up to date... --> 2020-04-01 12:00:00\u001b[0m\n",
      "\u001b[33mDownloading Historical Data BCH/BTC Since 2020-04-01 12:00:00 in 1h Candles\u001b[0m\n",
      "First candle: 2020-04-01T18:00:00.000Z Last candle: 2020-04-03T03:00:00.000Z Candles returned: 34\n",
      "\u001b[36mDownload time was 3.20 secs\u001b[0m\n",
      "\u001b[36mWriting Data to Disk\u001b[0m\n",
      "\u001b[36mSleeping...\u001b[0m\n",
      "\u001b[33mBCH/USD NOT up to date... --> 2020-04-01 12:00:00\u001b[0m\n",
      "\u001b[33mDownloading Historical Data BCH/USD Since 2020-04-01 12:00:00 in 1h Candles\u001b[0m\n",
      "First candle: 2020-04-01T18:00:00.000Z Last candle: 2020-04-03T03:00:00.000Z Candles returned: 34\n",
      "\u001b[36mDownload time was 3.15 secs\u001b[0m\n",
      "\u001b[36mWriting Data to Disk\u001b[0m\n",
      "\u001b[36mSleeping...\u001b[0m\n",
      "\u001b[33mBTC/EUR NOT up to date... --> 2020-04-01 12:00:00\u001b[0m\n",
      "\u001b[33mDownloading Historical Data BTC/EUR Since 2020-04-01 12:00:00 in 1h Candles\u001b[0m\n",
      "First candle: 2020-04-01T18:00:00.000Z Last candle: 2020-04-03T03:00:00.000Z Candles returned: 34\n",
      "\u001b[36mDownload time was 3.13 secs\u001b[0m\n",
      "\u001b[36mWriting Data to Disk\u001b[0m\n",
      "\u001b[36mSleeping...\u001b[0m\n",
      "\u001b[33mBTC/USDC NOT up to date... --> 2020-04-01 12:00:00\u001b[0m\n",
      "\u001b[33mDownloading Historical Data BTC/USDC Since 2020-04-01 12:00:00 in 1h Candles\u001b[0m\n",
      "First candle: 2020-04-01T18:00:00.000Z Last candle: 2020-04-03T03:00:00.000Z Candles returned: 34\n",
      "\u001b[36mDownload time was 3.18 secs\u001b[0m\n",
      "\u001b[36mWriting Data to Disk\u001b[0m\n",
      "\u001b[36mSleeping...\u001b[0m\n",
      "\u001b[33mDASH/USD NOT up to date... --> 2020-04-01 12:00:00\u001b[0m\n",
      "\u001b[33mDownloading Historical Data DASH/USD Since 2020-04-01 12:00:00 in 1h Candles\u001b[0m\n",
      "First candle: 2020-04-01T18:00:00.000Z Last candle: 2020-04-03T03:00:00.000Z Candles returned: 34\n",
      "\u001b[36mDownload time was 3.15 secs\u001b[0m\n",
      "\u001b[36mWriting Data to Disk\u001b[0m\n",
      "\u001b[36mSleeping...\u001b[0m\n",
      "\u001b[33mDNT/USDC NOT up to date... --> 2020-04-01 11:00:00\u001b[0m\n",
      "\u001b[33mDownloading Historical Data DNT/USDC Since 2020-04-01 11:00:00 in 1h Candles\u001b[0m\n",
      "First candle: 2020-04-01T17:00:00.000Z Last candle: 2020-04-03T03:00:00.000Z Candles returned: 35\n",
      "\u001b[36mDownload time was 3.17 secs\u001b[0m\n",
      "\u001b[36mWriting Data to Disk\u001b[0m\n",
      "\u001b[36mSleeping...\u001b[0m\n",
      "\u001b[33mEOS/EUR NOT up to date... --> 2020-04-01 12:00:00\u001b[0m\n",
      "\u001b[33mDownloading Historical Data EOS/EUR Since 2020-04-01 12:00:00 in 1h Candles\u001b[0m\n",
      "First candle: 2020-04-01T18:00:00.000Z Last candle: 2020-04-03T02:00:00.000Z Candles returned: 33\n",
      "\u001b[36mDownload time was 3.30 secs\u001b[0m\n",
      "\u001b[36mWriting Data to Disk\u001b[0m\n",
      "\u001b[36mSleeping...\u001b[0m\n",
      "\u001b[33mEOS/USD NOT up to date... --> 2020-04-01 12:00:00\u001b[0m\n",
      "\u001b[33mDownloading Historical Data EOS/USD Since 2020-04-01 12:00:00 in 1h Candles\u001b[0m\n",
      "First candle: 2020-04-01T18:00:00.000Z Last candle: 2020-04-03T03:00:00.000Z Candles returned: 34\n",
      "\u001b[36mDownload time was 3.15 secs\u001b[0m\n",
      "\u001b[36mWriting Data to Disk\u001b[0m\n",
      "\u001b[36mSleeping...\u001b[0m\n",
      "\u001b[33mETC/BTC NOT up to date... --> 2020-04-01 12:00:00\u001b[0m\n",
      "\u001b[33mDownloading Historical Data ETC/BTC Since 2020-04-01 12:00:00 in 1h Candles\u001b[0m\n",
      "First candle: 2020-04-01T18:00:00.000Z Last candle: 2020-04-03T03:00:00.000Z Candles returned: 34\n",
      "\u001b[36mDownload time was 3.15 secs\u001b[0m\n",
      "\u001b[36mWriting Data to Disk\u001b[0m\n",
      "\u001b[36mSleeping...\u001b[0m\n",
      "\u001b[33mETC/EUR NOT up to date... --> 2020-04-01 12:00:00\u001b[0m\n",
      "\u001b[33mDownloading Historical Data ETC/EUR Since 2020-04-01 12:00:00 in 1h Candles\u001b[0m\n",
      "First candle: 2020-04-01T18:00:00.000Z Last candle: 2020-04-03T03:00:00.000Z Candles returned: 34\n",
      "\u001b[36mDownload time was 3.16 secs\u001b[0m\n",
      "\u001b[36mWriting Data to Disk\u001b[0m\n",
      "\u001b[36mSleeping...\u001b[0m\n",
      "\u001b[33mETC/GBP NOT up to date... --> 2020-04-01 12:00:00\u001b[0m\n",
      "\u001b[33mDownloading Historical Data ETC/GBP Since 2020-04-01 12:00:00 in 1h Candles\u001b[0m\n",
      "First candle: 2020-04-01T18:00:00.000Z Last candle: 2020-04-03T02:00:00.000Z Candles returned: 28\n",
      "First candle: 2020-04-02T22:00:00.000Z Last candle: 2020-04-03T02:00:00.000Z Candles returned: 4\n",
      "First candle: 2020-04-03T02:00:00.000Z Last candle: 2020-04-03T02:00:00.000Z Candles returned: 1\n",
      "\u001b[36mDownload time was 9.95 secs\u001b[0m\n",
      "\u001b[36mWriting Data to Disk\u001b[0m\n",
      "\u001b[36mSleeping...\u001b[0m\n",
      "\u001b[33mETH/EUR NOT up to date... --> 2020-04-01 12:00:00\u001b[0m\n",
      "\u001b[33mDownloading Historical Data ETH/EUR Since 2020-04-01 12:00:00 in 1h Candles\u001b[0m\n",
      "First candle: 2020-04-01T18:00:00.000Z Last candle: 2020-04-03T03:00:00.000Z Candles returned: 34\n",
      "\u001b[36mDownload time was 3.23 secs\u001b[0m\n",
      "\u001b[36mWriting Data to Disk\u001b[0m\n",
      "\u001b[36mSleeping...\u001b[0m\n",
      "\u001b[33mETH/USDC NOT up to date... --> 2020-04-01 12:00:00\u001b[0m\n",
      "\u001b[33mDownloading Historical Data ETH/USDC Since 2020-04-01 12:00:00 in 1h Candles\u001b[0m\n",
      "First candle: 2020-04-01T18:00:00.000Z Last candle: 2020-04-03T03:00:00.000Z Candles returned: 34\n",
      "\u001b[36mDownload time was 3.18 secs\u001b[0m\n",
      "\u001b[36mWriting Data to Disk\u001b[0m\n",
      "\u001b[36mSleeping...\u001b[0m\n",
      "\u001b[33mGNT/USDC NOT up to date... --> 2020-04-01 11:00:00\u001b[0m\n",
      "\u001b[33mDownloading Historical Data GNT/USDC Since 2020-04-01 11:00:00 in 1h Candles\u001b[0m\n",
      "First candle: 2020-04-01T17:00:00.000Z Last candle: 2020-04-03T02:00:00.000Z Candles returned: 28\n",
      "First candle: 2020-04-02T21:00:00.000Z Last candle: 2020-04-03T02:00:00.000Z Candles returned: 6\n",
      "\u001b[36mDownload time was 6.45 secs\u001b[0m\n",
      "\u001b[36mWriting Data to Disk\u001b[0m\n",
      "\u001b[36mSleeping...\u001b[0m\n",
      "\u001b[33mLINK/USD NOT up to date... --> 2020-04-01 12:00:00\u001b[0m\n",
      "\u001b[33mDownloading Historical Data LINK/USD Since 2020-04-01 12:00:00 in 1h Candles\u001b[0m\n",
      "First candle: 2020-04-01T18:00:00.000Z Last candle: 2020-04-03T03:00:00.000Z Candles returned: 34\n",
      "\u001b[36mDownload time was 3.16 secs\u001b[0m\n",
      "\u001b[36mWriting Data to Disk\u001b[0m\n",
      "\u001b[36mSleeping...\u001b[0m\n",
      "\u001b[33mLOOM/USDC NOT up to date... --> 2020-04-01 11:00:00\u001b[0m\n",
      "\u001b[33mDownloading Historical Data LOOM/USDC Since 2020-04-01 11:00:00 in 1h Candles\u001b[0m\n",
      "First candle: 2020-04-01T17:00:00.000Z Last candle: 2020-04-03T03:00:00.000Z Candles returned: 33\n",
      "First candle: 2020-04-03T02:00:00.000Z Last candle: 2020-04-03T03:00:00.000Z Candles returned: 2\n",
      "\u001b[36mDownload time was 6.31 secs\u001b[0m\n",
      "\u001b[36mWriting Data to Disk\u001b[0m\n",
      "\u001b[36mSleeping...\u001b[0m\n",
      "\u001b[33mLTC/BTC NOT up to date... --> 2020-04-01 12:00:00\u001b[0m\n",
      "\u001b[33mDownloading Historical Data LTC/BTC Since 2020-04-01 12:00:00 in 1h Candles\u001b[0m\n",
      "First candle: 2020-04-01T18:00:00.000Z Last candle: 2020-04-03T03:00:00.000Z Candles returned: 34\n",
      "\u001b[36mDownload time was 3.15 secs\u001b[0m\n",
      "\u001b[36mWriting Data to Disk\u001b[0m\n",
      "\u001b[36mSleeping...\u001b[0m\n",
      "\u001b[33mLTC/GBP NOT up to date... --> 2020-04-01 12:00:00\u001b[0m\n",
      "\u001b[33mDownloading Historical Data LTC/GBP Since 2020-04-01 12:00:00 in 1h Candles\u001b[0m\n",
      "First candle: 2020-04-01T18:00:00.000Z Last candle: 2020-04-03T03:00:00.000Z Candles returned: 33\n",
      "First candle: 2020-04-03T03:00:00.000Z Last candle: 2020-04-03T03:00:00.000Z Candles returned: 1\n",
      "\u001b[36mDownload time was 6.30 secs\u001b[0m\n",
      "\u001b[36mWriting Data to Disk\u001b[0m\n",
      "\u001b[36mSleeping...\u001b[0m\n",
      "\u001b[33mLTC/USD NOT up to date... --> 2020-04-01 12:00:00\u001b[0m\n",
      "\u001b[33mDownloading Historical Data LTC/USD Since 2020-04-01 12:00:00 in 1h Candles\u001b[0m\n",
      "First candle: 2020-04-01T18:00:00.000Z Last candle: 2020-04-03T03:00:00.000Z Candles returned: 34\n",
      "\u001b[36mDownload time was 3.16 secs\u001b[0m\n",
      "\u001b[36mWriting Data to Disk\u001b[0m\n",
      "\u001b[36mSleeping...\u001b[0m\n",
      "\u001b[33mMANA/USDC NOT up to date... --> 2020-04-01 11:00:00\u001b[0m\n",
      "\u001b[33mDownloading Historical Data MANA/USDC Since 2020-04-01 11:00:00 in 1h Candles\u001b[0m\n",
      "First candle: 2020-04-01T17:00:00.000Z Last candle: 2020-04-03T03:00:00.000Z Candles returned: 32\n",
      "First candle: 2020-04-03T01:00:00.000Z Last candle: 2020-04-03T03:00:00.000Z Candles returned: 3\n",
      "\u001b[36mDownload time was 6.54 secs\u001b[0m\n",
      "\u001b[36mWriting Data to Disk\u001b[0m\n",
      "\u001b[36mSleeping...\u001b[0m\n"
     ]
    },
    {
     "name": "stdout",
     "output_type": "stream",
     "text": [
      "\u001b[33mREP/USD NOT up to date... --> 2020-04-01 12:00:00\u001b[0m\n",
      "\u001b[33mDownloading Historical Data REP/USD Since 2020-04-01 12:00:00 in 1h Candles\u001b[0m\n",
      "First candle: 2020-04-01T18:00:00.000Z Last candle: 2020-04-03T03:00:00.000Z Candles returned: 33\n",
      "First candle: 2020-04-03T03:00:00.000Z Last candle: 2020-04-03T03:00:00.000Z Candles returned: 1\n",
      "\u001b[36mDownload time was 6.28 secs\u001b[0m\n",
      "\u001b[36mWriting Data to Disk\u001b[0m\n",
      "\u001b[36mSleeping...\u001b[0m\n",
      "\u001b[33mXTZ/USD NOT up to date... --> 2020-04-01 12:00:00\u001b[0m\n",
      "\u001b[33mDownloading Historical Data XTZ/USD Since 2020-04-01 12:00:00 in 1h Candles\u001b[0m\n",
      "First candle: 2020-04-01T18:00:00.000Z Last candle: 2020-04-03T03:00:00.000Z Candles returned: 34\n",
      "\u001b[36mDownload time was 3.16 secs\u001b[0m\n",
      "\u001b[36mWriting Data to Disk\u001b[0m\n",
      "\u001b[36mSleeping...\u001b[0m\n",
      "\u001b[33mZEC/BTC NOT up to date... --> 2020-04-01 12:00:00\u001b[0m\n",
      "\u001b[33mDownloading Historical Data ZEC/BTC Since 2020-04-01 12:00:00 in 1h Candles\u001b[0m\n",
      "First candle: 2020-04-01T18:00:00.000Z Last candle: 2020-04-03T03:00:00.000Z Candles returned: 33\n",
      "First candle: 2020-04-03T03:00:00.000Z Last candle: 2020-04-03T03:00:00.000Z Candles returned: 1\n",
      "\u001b[36mDownload time was 6.29 secs\u001b[0m\n",
      "\u001b[36mWriting Data to Disk\u001b[0m\n",
      "\u001b[36mSleeping...\u001b[0m\n",
      "\u001b[33mZEC/USDC NOT up to date... --> 2020-04-01 12:00:00\u001b[0m\n",
      "\u001b[33mDownloading Historical Data ZEC/USDC Since 2020-04-01 12:00:00 in 1h Candles\u001b[0m\n",
      "First candle: 2020-04-01T18:00:00.000Z Last candle: 2020-04-03T03:00:00.000Z Candles returned: 34\n",
      "\u001b[36mDownload time was 3.15 secs\u001b[0m\n",
      "\u001b[36mWriting Data to Disk\u001b[0m\n",
      "\u001b[36mSleeping...\u001b[0m\n",
      "\u001b[33mZRX/EUR NOT up to date... --> 2020-04-01 12:00:00\u001b[0m\n",
      "\u001b[33mDownloading Historical Data ZRX/EUR Since 2020-04-01 12:00:00 in 1h Candles\u001b[0m\n",
      "First candle: 2020-04-01T18:00:00.000Z Last candle: 2020-04-03T03:00:00.000Z Candles returned: 34\n",
      "\u001b[36mDownload time was 3.16 secs\u001b[0m\n",
      "\u001b[36mWriting Data to Disk\u001b[0m\n",
      "\u001b[36mSleeping...\u001b[0m\n",
      "\r"
     ]
    }
   ],
   "source": [
    "d.get_historical_update()"
   ]
  },
  {
   "cell_type": "code",
   "execution_count": null,
   "metadata": {},
   "outputs": [],
   "source": [
    "dataset = {}\n",
    "for i in d.markets:\n",
    "    try:\n",
    "        dataset[i] = ruckusCore.Data(i)\n",
    "    except:\n",
    "        print(f\"{i} didnt load\")"
   ]
  },
  {
   "cell_type": "code",
   "execution_count": null,
   "metadata": {
    "scrolled": false
   },
   "outputs": [],
   "source": [
    "d_set = {}\n",
    "for k, v in dataset.items():\n",
    "    print( k )\n",
    "    ta = ruckusCore.TALib()\n",
    "    for h, i in ta.available.items():\n",
    "        try:\n",
    "            v.dataframe[ h ] = i( v.dataframe )\n",
    "            # print(f\"{h} works\")\n",
    "        except:\n",
    "            # print(f\"{h} isnt working\")\n",
    "            pass"
   ]
  },
  {
   "cell_type": "code",
   "execution_count": null,
   "metadata": {
    "scrolled": false
   },
   "outputs": [],
   "source": [
    "for k, v in dataset.items():\n",
    "    print(k)\n",
    "    print(v.dataframe.columns)\n",
    "    break"
   ]
  },
  {
   "cell_type": "code",
   "execution_count": null,
   "metadata": {
    "scrolled": false
   },
   "outputs": [],
   "source": [
    "df = dataset[list(dataset)[-1]].dataframe"
   ]
  },
  {
   "cell_type": "code",
   "execution_count": null,
   "metadata": {},
   "outputs": [],
   "source": [
    "for i in df.columns:\n",
    "    x = df[i]\n",
    "    x.plot()"
   ]
  },
  {
   "cell_type": "code",
   "execution_count": null,
   "metadata": {},
   "outputs": [],
   "source": [
    "candles = dataset[list(dataset)[-1]].make_candles(df)"
   ]
  },
  {
   "cell_type": "code",
   "execution_count": null,
   "metadata": {},
   "outputs": [],
   "source": [
    "candles.plot()"
   ]
  },
  {
   "cell_type": "code",
   "execution_count": null,
   "metadata": {},
   "outputs": [],
   "source": []
  }
 ],
 "metadata": {
  "kernelspec": {
   "display_name": "Python 3",
   "language": "python",
   "name": "python3"
  },
  "language_info": {
   "codemirror_mode": {
    "name": "ipython",
    "version": 3
   },
   "file_extension": ".py",
   "mimetype": "text/x-python",
   "name": "python",
   "nbconvert_exporter": "python",
   "pygments_lexer": "ipython3",
   "version": "3.8.2"
  }
 },
 "nbformat": 4,
 "nbformat_minor": 4
}
