{
 "cells": [
  {
   "cell_type": "code",
   "execution_count": 1,
   "metadata": {},
   "outputs": [],
   "source": [
    "import ruckusCore\n",
    "from ruckusCore.utils import protected"
   ]
  },
  {
   "cell_type": "code",
   "execution_count": 2,
   "metadata": {},
   "outputs": [],
   "source": [
    "d = ruckusCore.Datasmith()"
   ]
  },
  {
   "cell_type": "code",
   "execution_count": null,
   "metadata": {},
   "outputs": [
    {
     "name": "stderr",
     "output_type": "stream",
     "text": [
      "  3%|█▉                                                       | 2/58 [00:00<00:01, 37.47 pairs/s, file=ATOM_BTC]"
     ]
    },
    {
     "name": "stdout",
     "output_type": "stream",
     "text": [
      "\u001b[33mDownloading Historical Data ATOM/BTC Since 2020-01-01T00:00:00Z in 1h Candles\u001b[0m\n",
      "\u001b[36mDownload time was 0.04 secs\u001b[0m\n",
      "\u001b[36mWriting Data to Disk\u001b[0m\n",
      "\u001b[36mSleeping...\u001b[0m\n"
     ]
    },
    {
     "name": "stderr",
     "output_type": "stream",
     "text": [
      "                                                                                                                \r"
     ]
    },
    {
     "name": "stdout",
     "output_type": "stream",
     "text": [
      "\u001b[33mDownloading Historical Data ATOM/USD Since 2020-01-01T00:00:00Z in 1h Candles\u001b[0m\n",
      "\u001b[36mDownload time was 0.14 secs\u001b[0m\n",
      "\u001b[36mWriting Data to Disk\u001b[0m\n"
     ]
    },
    {
     "name": "stderr",
     "output_type": "stream",
     "text": [
      "\r",
      "  5%|██▉                                                      | 3/58 [00:04<01:14,  1.35s/ pairs, file=ATOM_USD]"
     ]
    },
    {
     "name": "stdout",
     "output_type": "stream",
     "text": [
      "\u001b[36mSleeping...\u001b[0m\n"
     ]
    },
    {
     "name": "stderr",
     "output_type": "stream",
     "text": [
      "  7%|████                                                      | 4/58 [00:08<01:58,  2.20s/ pairs, file=BAT_ETH]"
     ]
    },
    {
     "name": "stdout",
     "output_type": "stream",
     "text": [
      "\u001b[33mDownloading Historical Data BAT/ETH Since 2020-01-01T00:00:00Z in 1h Candles\u001b[0m\n",
      "First candle: 2020-01-01T00:00:00.000Z Last candle: 2020-01-13T11:00:00.000Z Candles returned: 297\n"
     ]
    },
    {
     "name": "stderr",
     "output_type": "stream",
     "text": [
      "  7%|████                                                      | 4/58 [00:13<01:58,  2.20s/ pairs, file=BAT_ETH]"
     ]
    },
    {
     "name": "stdout",
     "output_type": "stream",
     "text": [
      "First candle: 2020-01-13T09:00:00.000Z Last candle: 2020-01-25T20:00:00.000Z Candles returned: 297\n"
     ]
    },
    {
     "name": "stderr",
     "output_type": "stream",
     "text": [
      "  7%|████                                                      | 4/58 [00:18<01:58,  2.20s/ pairs, file=BAT_ETH]"
     ]
    },
    {
     "name": "stdout",
     "output_type": "stream",
     "text": [
      "First candle: 2020-01-25T18:00:00.000Z Last candle: 2020-02-07T05:00:00.000Z Candles returned: 296\n"
     ]
    },
    {
     "name": "stderr",
     "output_type": "stream",
     "text": [
      "  7%|████                                                      | 4/58 [00:23<01:58,  2.20s/ pairs, file=BAT_ETH]"
     ]
    },
    {
     "name": "stdout",
     "output_type": "stream",
     "text": [
      "First candle: 2020-02-07T02:00:00.000Z Last candle: 2020-02-19T13:00:00.000Z Candles returned: 300\n"
     ]
    },
    {
     "name": "stderr",
     "output_type": "stream",
     "text": [
      "  7%|████                                                      | 4/58 [00:29<01:58,  2.20s/ pairs, file=BAT_ETH]"
     ]
    },
    {
     "name": "stdout",
     "output_type": "stream",
     "text": [
      "First candle: 2020-02-19T14:00:00.000Z Last candle: 2020-03-03T01:00:00.000Z Candles returned: 300\n"
     ]
    },
    {
     "name": "stderr",
     "output_type": "stream",
     "text": [
      "  7%|████                                                      | 4/58 [00:34<01:58,  2.20s/ pairs, file=BAT_ETH]"
     ]
    },
    {
     "name": "stdout",
     "output_type": "stream",
     "text": [
      "First candle: 2020-03-03T02:00:00.000Z Last candle: 2020-03-15T13:00:00.000Z Candles returned: 300\n"
     ]
    },
    {
     "name": "stderr",
     "output_type": "stream",
     "text": [
      "  7%|████                                                      | 4/58 [00:40<01:58,  2.20s/ pairs, file=BAT_ETH]"
     ]
    },
    {
     "name": "stdout",
     "output_type": "stream",
     "text": [
      "First candle: 2020-03-15T14:00:00.000Z Last candle: 2020-03-28T01:00:00.000Z Candles returned: 300\n"
     ]
    },
    {
     "name": "stderr",
     "output_type": "stream",
     "text": [
      "  7%|████                                                      | 4/58 [00:45<01:58,  2.20s/ pairs, file=BAT_ETH]"
     ]
    },
    {
     "name": "stdout",
     "output_type": "stream",
     "text": [
      "First candle: 2020-03-28T02:00:00.000Z Last candle: 2020-03-28T08:00:00.000Z Candles returned: 7\n"
     ]
    },
    {
     "name": "stderr",
     "output_type": "stream",
     "text": [
      "  7%|████                                                      | 4/58 [00:50<01:58,  2.20s/ pairs, file=BAT_ETH]"
     ]
    },
    {
     "name": "stdout",
     "output_type": "stream",
     "text": [
      "\u001b[36mDownload time was 42.18 secs\u001b[0m\n",
      "\u001b[36mWriting Data to Disk\u001b[0m\n",
      "\u001b[36mSleeping...\u001b[0m\n"
     ]
    },
    {
     "name": "stderr",
     "output_type": "stream",
     "text": [
      "  9%|████▉                                                    | 5/58 [00:54<13:37, 15.42s/ pairs, file=BAT_USDC]"
     ]
    },
    {
     "name": "stdout",
     "output_type": "stream",
     "text": [
      "\u001b[33mDownloading Historical Data BAT/USDC Since 2020-01-01T00:00:00Z in 1h Candles\u001b[0m\n",
      "First candle: 2020-01-01T00:00:00.000Z Last candle: 2020-01-13T11:00:00.000Z Candles returned: 300\n"
     ]
    },
    {
     "name": "stderr",
     "output_type": "stream",
     "text": [
      "  9%|████▉                                                    | 5/58 [00:59<13:37, 15.42s/ pairs, file=BAT_USDC]"
     ]
    },
    {
     "name": "stdout",
     "output_type": "stream",
     "text": [
      "First candle: 2020-01-13T12:00:00.000Z Last candle: 2020-01-25T23:00:00.000Z Candles returned: 300\n"
     ]
    },
    {
     "name": "stderr",
     "output_type": "stream",
     "text": [
      "  9%|████▉                                                    | 5/58 [01:05<13:37, 15.42s/ pairs, file=BAT_USDC]"
     ]
    },
    {
     "name": "stdout",
     "output_type": "stream",
     "text": [
      "First candle: 2020-01-26T00:00:00.000Z Last candle: 2020-02-07T11:00:00.000Z Candles returned: 299\n"
     ]
    },
    {
     "name": "stderr",
     "output_type": "stream",
     "text": [
      "  9%|████▉                                                    | 5/58 [01:10<13:37, 15.42s/ pairs, file=BAT_USDC]"
     ]
    },
    {
     "name": "stdout",
     "output_type": "stream",
     "text": [
      "First candle: 2020-02-07T11:00:00.000Z Last candle: 2020-02-19T22:00:00.000Z Candles returned: 300\n"
     ]
    },
    {
     "name": "stderr",
     "output_type": "stream",
     "text": [
      "  9%|████▉                                                    | 5/58 [01:15<13:37, 15.42s/ pairs, file=BAT_USDC]"
     ]
    },
    {
     "name": "stdout",
     "output_type": "stream",
     "text": [
      "First candle: 2020-02-19T23:00:00.000Z Last candle: 2020-03-03T10:00:00.000Z Candles returned: 300\n"
     ]
    },
    {
     "name": "stderr",
     "output_type": "stream",
     "text": [
      "  9%|████▉                                                    | 5/58 [01:20<13:37, 15.42s/ pairs, file=BAT_USDC]"
     ]
    },
    {
     "name": "stdout",
     "output_type": "stream",
     "text": [
      "First candle: 2020-03-03T11:00:00.000Z Last candle: 2020-03-15T22:00:00.000Z Candles returned: 300\n"
     ]
    },
    {
     "name": "stderr",
     "output_type": "stream",
     "text": [
      "  9%|████▉                                                    | 5/58 [01:26<13:37, 15.42s/ pairs, file=BAT_USDC]"
     ]
    },
    {
     "name": "stdout",
     "output_type": "stream",
     "text": [
      "First candle: 2020-03-15T23:00:00.000Z Last candle: 2020-03-28T09:00:00.000Z Candles returned: 299\n"
     ]
    },
    {
     "name": "stderr",
     "output_type": "stream",
     "text": [
      "  9%|████▉                                                    | 5/58 [01:31<13:37, 15.42s/ pairs, file=BAT_USDC]"
     ]
    },
    {
     "name": "stdout",
     "output_type": "stream",
     "text": [
      "\u001b[36mDownload time was 36.62 secs\u001b[0m\n",
      "\u001b[36mWriting Data to Disk\u001b[0m\n",
      "\u001b[36mSleeping...\u001b[0m\n"
     ]
    },
    {
     "name": "stderr",
     "output_type": "stream",
     "text": [
      " 10%|██████                                                    | 6/58 [01:35<19:56, 23.00s/ pairs, file=BCH_BTC]"
     ]
    },
    {
     "name": "stdout",
     "output_type": "stream",
     "text": [
      "\u001b[33mDownloading Historical Data BCH/BTC Since 2020-01-01T00:00:00Z in 1h Candles\u001b[0m\n",
      "First candle: 2020-01-01T00:00:00.000Z Last candle: 2020-01-13T11:00:00.000Z Candles returned: 300\n"
     ]
    },
    {
     "name": "stderr",
     "output_type": "stream",
     "text": [
      " 10%|██████                                                    | 6/58 [01:40<19:56, 23.00s/ pairs, file=BCH_BTC]"
     ]
    },
    {
     "name": "stdout",
     "output_type": "stream",
     "text": [
      "First candle: 2020-01-13T12:00:00.000Z Last candle: 2020-01-25T23:00:00.000Z Candles returned: 300\n"
     ]
    },
    {
     "name": "stderr",
     "output_type": "stream",
     "text": [
      " 10%|██████                                                    | 6/58 [01:46<19:56, 23.00s/ pairs, file=BCH_BTC]"
     ]
    },
    {
     "name": "stdout",
     "output_type": "stream",
     "text": [
      "First candle: 2020-01-26T00:00:00.000Z Last candle: 2020-02-07T11:00:00.000Z Candles returned: 299\n"
     ]
    },
    {
     "name": "stderr",
     "output_type": "stream",
     "text": [
      " 10%|██████                                                    | 6/58 [01:51<19:56, 23.00s/ pairs, file=BCH_BTC]"
     ]
    },
    {
     "name": "stdout",
     "output_type": "stream",
     "text": [
      "First candle: 2020-02-07T11:00:00.000Z Last candle: 2020-02-19T22:00:00.000Z Candles returned: 300\n"
     ]
    },
    {
     "name": "stderr",
     "output_type": "stream",
     "text": [
      " 10%|██████                                                    | 6/58 [01:56<19:56, 23.00s/ pairs, file=BCH_BTC]"
     ]
    },
    {
     "name": "stdout",
     "output_type": "stream",
     "text": [
      "First candle: 2020-02-19T23:00:00.000Z Last candle: 2020-03-03T10:00:00.000Z Candles returned: 300\n"
     ]
    },
    {
     "name": "stderr",
     "output_type": "stream",
     "text": [
      " 10%|██████                                                    | 6/58 [02:01<19:56, 23.00s/ pairs, file=BCH_BTC]"
     ]
    },
    {
     "name": "stdout",
     "output_type": "stream",
     "text": [
      "First candle: 2020-03-03T11:00:00.000Z Last candle: 2020-03-15T22:00:00.000Z Candles returned: 300\n"
     ]
    },
    {
     "name": "stderr",
     "output_type": "stream",
     "text": [
      " 10%|██████                                                    | 6/58 [02:07<19:56, 23.00s/ pairs, file=BCH_BTC]"
     ]
    },
    {
     "name": "stdout",
     "output_type": "stream",
     "text": [
      "First candle: 2020-03-15T23:00:00.000Z Last candle: 2020-03-28T08:00:00.000Z Candles returned: 298\n"
     ]
    },
    {
     "name": "stderr",
     "output_type": "stream",
     "text": [
      " 10%|██████                                                    | 6/58 [02:12<19:56, 23.00s/ pairs, file=BCH_BTC]"
     ]
    },
    {
     "name": "stdout",
     "output_type": "stream",
     "text": [
      "\u001b[36mDownload time was 37.03 secs\u001b[0m\n",
      "\u001b[36mWriting Data to Disk\u001b[0m\n",
      "\u001b[36mSleeping...\u001b[0m\n"
     ]
    },
    {
     "name": "stderr",
     "output_type": "stream",
     "text": [
      " 12%|███████                                                   | 7/58 [02:16<24:10, 28.43s/ pairs, file=BCH_EUR]"
     ]
    },
    {
     "name": "stdout",
     "output_type": "stream",
     "text": [
      "\u001b[33mDownloading Historical Data BCH/EUR Since 2020-01-01T00:00:00Z in 1h Candles\u001b[0m\n",
      "First candle: 2020-01-01T00:00:00.000Z Last candle: 2020-01-13T11:00:00.000Z Candles returned: 299\n"
     ]
    },
    {
     "name": "stderr",
     "output_type": "stream",
     "text": [
      " 12%|███████                                                   | 7/58 [02:21<24:10, 28.43s/ pairs, file=BCH_EUR]"
     ]
    },
    {
     "name": "stdout",
     "output_type": "stream",
     "text": [
      "First candle: 2020-01-13T11:00:00.000Z Last candle: 2020-01-25T22:00:00.000Z Candles returned: 300\n"
     ]
    },
    {
     "name": "stderr",
     "output_type": "stream",
     "text": [
      " 12%|███████                                                   | 7/58 [02:26<24:10, 28.43s/ pairs, file=BCH_EUR]"
     ]
    },
    {
     "name": "stdout",
     "output_type": "stream",
     "text": [
      "First candle: 2020-01-25T23:00:00.000Z Last candle: 2020-02-07T10:00:00.000Z Candles returned: 299\n"
     ]
    },
    {
     "name": "stderr",
     "output_type": "stream",
     "text": [
      " 12%|███████                                                   | 7/58 [02:31<24:10, 28.43s/ pairs, file=BCH_EUR]"
     ]
    },
    {
     "name": "stdout",
     "output_type": "stream",
     "text": [
      "First candle: 2020-02-07T10:00:00.000Z Last candle: 2020-02-19T21:00:00.000Z Candles returned: 300\n"
     ]
    },
    {
     "name": "stderr",
     "output_type": "stream",
     "text": [
      " 12%|███████                                                   | 7/58 [02:37<24:10, 28.43s/ pairs, file=BCH_EUR]"
     ]
    },
    {
     "name": "stdout",
     "output_type": "stream",
     "text": [
      "First candle: 2020-02-19T22:00:00.000Z Last candle: 2020-03-03T09:00:00.000Z Candles returned: 300\n"
     ]
    },
    {
     "name": "stderr",
     "output_type": "stream",
     "text": [
      " 12%|███████                                                   | 7/58 [02:42<24:10, 28.43s/ pairs, file=BCH_EUR]"
     ]
    },
    {
     "name": "stdout",
     "output_type": "stream",
     "text": [
      "First candle: 2020-03-03T10:00:00.000Z Last candle: 2020-03-15T21:00:00.000Z Candles returned: 300\n"
     ]
    },
    {
     "name": "stderr",
     "output_type": "stream",
     "text": [
      " 12%|███████                                                   | 7/58 [02:47<24:10, 28.43s/ pairs, file=BCH_EUR]"
     ]
    },
    {
     "name": "stdout",
     "output_type": "stream",
     "text": [
      "First candle: 2020-03-15T22:00:00.000Z Last candle: 2020-03-28T09:00:00.000Z Candles returned: 300\n"
     ]
    },
    {
     "name": "stderr",
     "output_type": "stream",
     "text": [
      " 12%|███████                                                   | 7/58 [02:52<24:10, 28.43s/ pairs, file=BCH_EUR]"
     ]
    },
    {
     "name": "stdout",
     "output_type": "stream",
     "text": [
      "\u001b[36mDownload time was 36.52 secs\u001b[0m\n",
      "\u001b[36mWriting Data to Disk\u001b[0m\n",
      "\u001b[36mSleeping...\u001b[0m\n"
     ]
    },
    {
     "name": "stderr",
     "output_type": "stream",
     "text": [
      " 14%|████████                                                  | 8/58 [02:57<26:44, 32.09s/ pairs, file=BCH_GBP]"
     ]
    },
    {
     "name": "stdout",
     "output_type": "stream",
     "text": [
      "\u001b[33mDownloading Historical Data BCH/GBP Since 2020-01-01T00:00:00Z in 1h Candles\u001b[0m\n",
      "First candle: 2020-01-01T00:00:00.000Z Last candle: 2020-01-13T11:00:00.000Z Candles returned: 285\n"
     ]
    },
    {
     "name": "stderr",
     "output_type": "stream",
     "text": [
      " 14%|████████                                                  | 8/58 [03:02<26:44, 32.09s/ pairs, file=BCH_GBP]"
     ]
    },
    {
     "name": "stdout",
     "output_type": "stream",
     "text": [
      "First candle: 2020-01-12T21:00:00.000Z Last candle: 2020-01-25T08:00:00.000Z Candles returned: 296\n"
     ]
    },
    {
     "name": "stderr",
     "output_type": "stream",
     "text": [
      " 14%|████████                                                  | 8/58 [03:07<26:44, 32.09s/ pairs, file=BCH_GBP]"
     ]
    },
    {
     "name": "stdout",
     "output_type": "stream",
     "text": [
      "First candle: 2020-01-25T05:00:00.000Z Last candle: 2020-02-06T16:00:00.000Z Candles returned: 292\n"
     ]
    },
    {
     "name": "stderr",
     "output_type": "stream",
     "text": [
      " 14%|████████                                                  | 8/58 [03:12<26:44, 32.09s/ pairs, file=BCH_GBP]"
     ]
    },
    {
     "name": "stdout",
     "output_type": "stream",
     "text": [
      "First candle: 2020-02-06T09:00:00.000Z Last candle: 2020-02-18T20:00:00.000Z Candles returned: 299\n"
     ]
    },
    {
     "name": "stderr",
     "output_type": "stream",
     "text": [
      " 14%|████████                                                  | 8/58 [03:18<26:44, 32.09s/ pairs, file=BCH_GBP]"
     ]
    },
    {
     "name": "stdout",
     "output_type": "stream",
     "text": [
      "First candle: 2020-02-18T20:00:00.000Z Last candle: 2020-03-02T07:00:00.000Z Candles returned: 297\n"
     ]
    }
   ],
   "source": [
    "d.get_historical_update()"
   ]
  },
  {
   "cell_type": "code",
   "execution_count": null,
   "metadata": {},
   "outputs": [],
   "source": []
  },
  {
   "cell_type": "code",
   "execution_count": null,
   "metadata": {},
   "outputs": [],
   "source": [
    "x = ccxt.coinbasepro()"
   ]
  },
  {
   "cell_type": "code",
   "execution_count": null,
   "metadata": {},
   "outputs": [],
   "source": [
    "m = x.load_markets()"
   ]
  },
  {
   "cell_type": "code",
   "execution_count": null,
   "metadata": {},
   "outputs": [],
   "source": [
    "import pandas"
   ]
  },
  {
   "cell_type": "code",
   "execution_count": null,
   "metadata": {},
   "outputs": [],
   "source": []
  }
 ],
 "metadata": {
  "kernelspec": {
   "display_name": "Python 3",
   "language": "python",
   "name": "python3"
  },
  "language_info": {
   "codemirror_mode": {
    "name": "ipython",
    "version": 3
   },
   "file_extension": ".py",
   "mimetype": "text/x-python",
   "name": "python",
   "nbconvert_exporter": "python",
   "pygments_lexer": "ipython3",
   "version": "3.8.2"
  }
 },
 "nbformat": 4,
 "nbformat_minor": 4
}
