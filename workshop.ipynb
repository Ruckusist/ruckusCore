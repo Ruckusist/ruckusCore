{
 "cells": [
  {
   "cell_type": "code",
   "execution_count": 1,
   "metadata": {},
   "outputs": [],
   "source": [
    "import ruckusCore"
   ]
  },
  {
   "cell_type": "code",
   "execution_count": 2,
   "metadata": {},
   "outputs": [],
   "source": [
    "d = ruckusCore.Datasmith()"
   ]
  },
  {
   "cell_type": "code",
   "execution_count": 4,
   "metadata": {
    "tags": [
     "outputPrepend",
     "outputPrepend",
     "outputPrepend",
     "outputPrepend",
     "outputPrepend",
     "outputPrepend",
     "outputPrepend",
     "outputPrepend",
     "outputPrepend",
     "outputPrepend",
     "outputPrepend",
     "outputPrepend",
     "outputPrepend",
     "outputPrepend",
     "outputPrepend",
     "outputPrepend",
     "outputPrepend",
     "outputPrepend",
     "outputPrepend",
     "outputPrepend",
     "outputPrepend",
     "outputPrepend",
     "outputPrepend",
     "outputPrepend",
     "outputPrepend",
     "outputPrepend",
     "outputPrepend",
     "outputPrepend",
     "outputPrepend",
     "outputPrepend",
     "outputPrepend",
     "outputPrepend",
     "outputPrepend",
     "outputPrepend",
     "outputPrepend",
     "outputPrepend",
     "outputPrepend",
     "outputPrepend",
     "outputPrepend",
     "outputPrepend",
     "outputPrepend",
     "outputPrepend",
     "outputPrepend",
     "outputPrepend",
     "outputPrepend",
     "outputPrepend",
     "outputPrepend",
     "outputPrepend",
     "outputPrepend",
     "outputPrepend",
     "outputPrepend",
     "outputPrepend",
     "outputPrepend",
     "outputPrepend",
     "outputPrepend",
     "outputPrepend",
     "outputPrepend",
     "outputPrepend",
     "outputPrepend",
     "outputPrepend",
     "outputPrepend",
     "outputPrepend",
     "outputPrepend",
     "outputPrepend",
     "outputPrepend",
     "outputPrepend",
     "outputPrepend",
     "outputPrepend",
     "outputPrepend",
     "outputPrepend",
     "outputPrepend",
     "outputPrepend",
     "outputPrepend",
     "outputPrepend",
     "outputPrepend",
     "outputPrepend",
     "outputPrepend",
     "outputPrepend",
     "outputPrepend",
     "outputPrepend",
     "outputPrepend",
     "outputPrepend",
     "outputPrepend",
     "outputPrepend",
     "outputPrepend",
     "outputPrepend",
     "outputPrepend",
     "outputPrepend",
     "outputPrepend",
     "outputPrepend",
     "outputPrepend",
     "outputPrepend",
     "outputPrepend",
     "outputPrepend",
     "outputPrepend",
     "outputPrepend",
     "outputPrepend",
     "outputPrepend",
     "outputPrepend",
     "outputPrepend",
     "outputPrepend",
     "outputPrepend",
     "outputPrepend",
     "outputPrepend",
     "outputPrepend",
     "outputPrepend",
     "outputPrepend",
     "outputPrepend",
     "outputPrepend",
     "outputPrepend",
     "outputPrepend",
     "outputPrepend",
     "outputPrepend",
     "outputPrepend",
     "outputPrepend",
     "outputPrepend",
     "outputPrepend",
     "outputPrepend",
     "outputPrepend",
     "outputPrepend",
     "outputPrepend",
     "outputPrepend",
     "outputPrepend",
     "outputPrepend",
     "outputPrepend",
     "outputPrepend",
     "outputPrepend",
     "outputPrepend",
     "outputPrepend",
     "outputPrepend",
     "outputPrepend",
     "outputPrepend",
     "outputPrepend",
     "outputPrepend",
     "outputPrepend",
     "outputPrepend",
     "outputPrepend",
     "outputPrepend",
     "outputPrepend",
     "outputPrepend",
     "outputPrepend",
     "outputPrepend",
     "outputPrepend",
     "outputPrepend",
     "outputPrepend",
     "outputPrepend",
     "outputPrepend",
     "outputPrepend",
     "outputPrepend",
     "outputPrepend",
     "outputPrepend",
     "outputPrepend",
     "outputPrepend",
     "outputPrepend",
     "outputPrepend",
     "outputPrepend",
     "outputPrepend",
     "outputPrepend",
     "outputPrepend",
     "outputPrepend",
     "outputPrepend",
     "outputPrepend",
     "outputPrepend",
     "outputPrepend",
     "outputPrepend",
     "outputPrepend",
     "outputPrepend",
     "outputPrepend",
     "outputPrepend",
     "outputPrepend",
     "outputPrepend",
     "outputPrepend",
     "outputPrepend",
     "outputPrepend",
     "outputPrepend",
     "outputPrepend",
     "outputPrepend",
     "outputPrepend",
     "outputPrepend",
     "outputPrepend",
     "outputPrepend",
     "outputPrepend",
     "outputPrepend",
     "outputPrepend",
     "outputPrepend",
     "outputPrepend",
     "outputPrepend",
     "outputPrepend",
     "outputPrepend",
     "outputPrepend",
     "outputPrepend",
     "outputPrepend",
     "outputPrepend",
     "outputPrepend",
     "outputPrepend",
     "outputPrepend",
     "outputPrepend",
     "outputPrepend",
     "outputPrepend",
     "outputPrepend",
     "outputPrepend",
     "outputPrepend",
     "outputPrepend",
     "outputPrepend",
     "outputPrepend",
     "outputPrepend",
     "outputPrepend",
     "outputPrepend",
     "outputPrepend",
     "outputPrepend",
     "outputPrepend",
     "outputPrepend",
     "outputPrepend",
     "outputPrepend",
     "outputPrepend",
     "outputPrepend",
     "outputPrepend",
     "outputPrepend",
     "outputPrepend",
     "outputPrepend",
     "outputPrepend"
    ]
   },
   "outputs": [
    {
     "output_type": "display_data",
     "data": {
      "text/plain": "HBox(children=(FloatProgress(value=0.0, max=59.0), HTML(value='')))",
      "application/vnd.jupyter.widget-view+json": {
       "version_major": 2,
       "version_minor": 0,
       "model_id": "4dfb21d472db4d20a7c87fe1f8cc7cc7"
      }
     },
     "metadata": {}
    },
    {
     "output_type": "stream",
     "name": "stdout",
     "text": "ndles returned: 300\nFirst candle: 2020-03-03T06:00:00.000Z Last candle: 2020-03-15T17:00:00.000Z Candles returned: 300\nFirst candle: 2020-03-15T18:00:00.000Z Last candle: 2020-03-28T05:00:00.000Z Candles returned: 300\nFirst candle: 2020-03-28T06:00:00.000Z Last candle: 2020-04-09T17:00:00.000Z Candles returned: 298\nFirst candle: 2020-04-09T16:00:00.000Z Last candle: 2020-04-22T03:00:00.000Z Candles returned: 300\nFirst candle: 2020-04-22T04:00:00.000Z Last candle: 2020-04-30T22:00:00.000Z Candles returned: 211\n\u001b[36mDownload time was 22.65 secs\u001b[0m\n\u001b[36mWriting Data to Disk\u001b[0m\n\u001b[33mLINK/USD NOT up to date... --> 2020-04-02 21:00:00\u001b[0m\n\u001b[33mDownloading Historical Data LINK/USD Since 2020-04-02 21:00:00 in 1h Candles\u001b[0m\nFirst candle: 2020-04-03T03:00:00.000Z Last candle: 2020-04-15T14:00:00.000Z Candles returned: 300\nFirst candle: 2020-04-15T15:00:00.000Z Last candle: 2020-04-28T02:00:00.000Z Candles returned: 300\nFirst candle: 2020-04-28T03:00:00.000Z Last candle: 2020-04-30T22:00:00.000Z Candles returned: 68\n\u001b[36mDownload time was 6.42 secs\u001b[0m\n\u001b[36mWriting Data to Disk\u001b[0m\n\u001b[33mLOOM/USDC NOT up to date... --> 2020-04-02 21:00:00\u001b[0m\n\u001b[33mDownloading Historical Data LOOM/USDC Since 2020-04-02 21:00:00 in 1h Candles\u001b[0m\nFirst candle: 2020-04-03T03:00:00.000Z Last candle: 2020-04-15T14:00:00.000Z Candles returned: 270\nFirst candle: 2020-04-14T09:00:00.000Z Last candle: 2020-04-26T20:00:00.000Z Candles returned: 272\nFirst candle: 2020-04-25T17:00:00.000Z Last candle: 2020-04-30T22:00:00.000Z Candles returned: 126\n\u001b[36mDownload time was 6.45 secs\u001b[0m\n\u001b[36mWriting Data to Disk\u001b[0m\n\u001b[33mLTC/BTC NOT up to date... --> 2020-04-02 21:00:00\u001b[0m\n\u001b[33mDownloading Historical Data LTC/BTC Since 2020-04-02 21:00:00 in 1h Candles\u001b[0m\nFirst candle: 2020-04-03T03:00:00.000Z Last candle: 2020-04-15T14:00:00.000Z Candles returned: 300\nFirst candle: 2020-04-15T15:00:00.000Z Last candle: 2020-04-28T02:00:00.000Z Candles returned: 300\nFirst candle: 2020-04-28T03:00:00.000Z Last candle: 2020-04-30T22:00:00.000Z Candles returned: 68\n\u001b[36mDownload time was 6.86 secs\u001b[0m\n\u001b[36mWriting Data to Disk\u001b[0m\n\u001b[33mDownloading Historical Data LTC/EUR Since 2020-01-01T00:00:00Z in 1h Candles\u001b[0m\nFirst candle: 2020-01-01T00:00:00.000Z Last candle: 2020-01-13T11:00:00.000Z Candles returned: 300\nFirst candle: 2020-01-13T12:00:00.000Z Last candle: 2020-01-25T23:00:00.000Z Candles returned: 300\nFirst candle: 2020-01-26T00:00:00.000Z Last candle: 2020-02-07T11:00:00.000Z Candles returned: 299\nFirst candle: 2020-02-07T11:00:00.000Z Last candle: 2020-02-19T22:00:00.000Z Candles returned: 300\nFirst candle: 2020-02-19T23:00:00.000Z Last candle: 2020-03-03T10:00:00.000Z Candles returned: 300\nFirst candle: 2020-03-03T11:00:00.000Z Last candle: 2020-03-15T22:00:00.000Z Candles returned: 300\nFirst candle: 2020-03-15T23:00:00.000Z Last candle: 2020-03-28T10:00:00.000Z Candles returned: 300\nFirst candle: 2020-03-28T11:00:00.000Z Last candle: 2020-04-09T22:00:00.000Z Candles returned: 300\nFirst candle: 2020-04-09T23:00:00.000Z Last candle: 2020-04-22T10:00:00.000Z Candles returned: 300\nFirst candle: 2020-04-22T11:00:00.000Z Last candle: 2020-04-30T22:00:00.000Z Candles returned: 204\n\u001b[36mDownload time was 22.99 secs\u001b[0m\n\u001b[36mWriting Data to Disk\u001b[0m\n\u001b[33mLTC/GBP NOT up to date... --> 2020-04-02 21:00:00\u001b[0m\n\u001b[33mDownloading Historical Data LTC/GBP Since 2020-04-02 21:00:00 in 1h Candles\u001b[0m\nFirst candle: 2020-04-03T03:00:00.000Z Last candle: 2020-04-15T14:00:00.000Z Candles returned: 298\nFirst candle: 2020-04-15T13:00:00.000Z Last candle: 2020-04-28T00:00:00.000Z Candles returned: 299\nFirst candle: 2020-04-28T00:00:00.000Z Last candle: 2020-04-30T22:00:00.000Z Candles returned: 71\n\u001b[36mDownload time was 6.44 secs\u001b[0m\n\u001b[36mWriting Data to Disk\u001b[0m\n\u001b[33mLTC/USD NOT up to date... --> 2020-04-02 21:00:00\u001b[0m\n\u001b[33mDownloading Historical Data LTC/USD Since 2020-04-02 21:00:00 in 1h Candles\u001b[0m\nFirst candle: 2020-04-03T03:00:00.000Z Last candle: 2020-04-15T14:00:00.000Z Candles returned: 300\nFirst candle: 2020-04-15T15:00:00.000Z Last candle: 2020-04-28T02:00:00.000Z Candles returned: 300\nFirst candle: 2020-04-28T03:00:00.000Z Last candle: 2020-04-30T22:00:00.000Z Candles returned: 68\n\u001b[36mDownload time was 6.73 secs\u001b[0m\n\u001b[36mWriting Data to Disk\u001b[0m\n\u001b[33mMANA/USDC NOT up to date... --> 2020-04-02 21:00:00\u001b[0m\n\u001b[33mDownloading Historical Data MANA/USDC Since 2020-04-02 21:00:00 in 1h Candles\u001b[0m\nFirst candle: 2020-04-03T03:00:00.000Z Last candle: 2020-04-15T14:00:00.000Z Candles returned: 263\nFirst candle: 2020-04-14T02:00:00.000Z Last candle: 2020-04-26T13:00:00.000Z Candles returned: 278\nFirst candle: 2020-04-25T16:00:00.000Z Last candle: 2020-04-30T22:00:00.000Z Candles returned: 127\n\u001b[36mDownload time was 6.86 secs\u001b[0m\n\u001b[36mWriting Data to Disk\u001b[0m\n\u001b[33mDownloading Historical Data OXT/USD Since 2020-01-01T00:00:00Z in 1h Candles\u001b[0m\nFirst candle: 2020-01-01T00:00:00.000Z Last candle: 2020-01-13T11:00:00.000Z Candles returned: 300\nFirst candle: 2020-01-13T12:00:00.000Z Last candle: 2020-01-25T23:00:00.000Z Candles returned: 300\nFirst candle: 2020-01-26T00:00:00.000Z Last candle: 2020-02-07T11:00:00.000Z Candles returned: 299\nFirst candle: 2020-02-07T11:00:00.000Z Last candle: 2020-02-19T22:00:00.000Z Candles returned: 300\nFirst candle: 2020-02-19T23:00:00.000Z Last candle: 2020-03-03T10:00:00.000Z Candles returned: 300\nFirst candle: 2020-03-03T11:00:00.000Z Last candle: 2020-03-15T22:00:00.000Z Candles returned: 300\nFirst candle: 2020-03-15T23:00:00.000Z Last candle: 2020-03-28T10:00:00.000Z Candles returned: 300\nFirst candle: 2020-03-28T11:00:00.000Z Last candle: 2020-04-09T22:00:00.000Z Candles returned: 300\nFirst candle: 2020-04-09T23:00:00.000Z Last candle: 2020-04-22T10:00:00.000Z Candles returned: 300\nFirst candle: 2020-04-22T11:00:00.000Z Last candle: 2020-04-30T22:00:00.000Z Candles returned: 204\n\u001b[36mDownload time was 21.59 secs\u001b[0m\n\u001b[36mWriting Data to Disk\u001b[0m\n\u001b[33mDownloading Historical Data REP/BTC Since 2020-01-01T00:00:00Z in 1h Candles\u001b[0m\nFirst candle: 2020-01-01T00:00:00.000Z Last candle: 2020-01-13T11:00:00.000Z Candles returned: 270\nFirst candle: 2020-01-12T06:00:00.000Z Last candle: 2020-01-24T17:00:00.000Z Candles returned: 296\nFirst candle: 2020-01-24T14:00:00.000Z Last candle: 2020-02-06T01:00:00.000Z Candles returned: 297\nFirst candle: 2020-02-05T23:00:00.000Z Last candle: 2020-02-18T10:00:00.000Z Candles returned: 299\nFirst candle: 2020-02-18T10:00:00.000Z Last candle: 2020-03-01T21:00:00.000Z Candles returned: 297\nFirst candle: 2020-03-01T19:00:00.000Z Last candle: 2020-03-14T06:00:00.000Z Candles returned: 296\nFirst candle: 2020-03-14T03:00:00.000Z Last candle: 2020-03-26T14:00:00.000Z Candles returned: 299\nFirst candle: 2020-03-26T14:00:00.000Z Last candle: 2020-04-08T01:00:00.000Z Candles returned: 297\nFirst candle: 2020-04-08T00:00:00.000Z Last candle: 2020-04-20T10:00:00.000Z Candles returned: 290\nFirst candle: 2020-04-20T01:00:00.000Z Last candle: 2020-04-30T22:00:00.000Z Candles returned: 250\nFirst candle: 2020-04-30T11:00:00.000Z Last candle: 2020-04-30T22:00:00.000Z Candles returned: 12\n\u001b[36mDownload time was 24.90 secs\u001b[0m\n\u001b[36mWriting Data to Disk\u001b[0m\n\u001b[33mREP/USD NOT up to date... --> 2020-04-02 21:00:00\u001b[0m\n\u001b[33mDownloading Historical Data REP/USD Since 2020-04-02 21:00:00 in 1h Candles\u001b[0m\nFirst candle: 2020-04-03T03:00:00.000Z Last candle: 2020-04-15T14:00:00.000Z Candles returned: 300\nFirst candle: 2020-04-15T15:00:00.000Z Last candle: 2020-04-28T02:00:00.000Z Candles returned: 300\nFirst candle: 2020-04-28T03:00:00.000Z Last candle: 2020-04-30T22:00:00.000Z Candles returned: 68\n\u001b[36mDownload time was 6.44 secs\u001b[0m\n\u001b[36mWriting Data to Disk\u001b[0m\n\u001b[33mDownloading Historical Data XLM/BTC Since 2020-01-01T00:00:00Z in 1h Candles\u001b[0m\nFirst candle: 2020-01-01T00:00:00.000Z Last candle: 2020-01-13T11:00:00.000Z Candles returned: 300\nFirst candle: 2020-01-13T12:00:00.000Z Last candle: 2020-01-25T23:00:00.000Z Candles returned: 300\nFirst candle: 2020-01-26T00:00:00.000Z Last candle: 2020-02-07T11:00:00.000Z Candles returned: 299\nFirst candle: 2020-02-07T11:00:00.000Z Last candle: 2020-02-19T22:00:00.000Z Candles returned: 300\nFirst candle: 2020-02-19T23:00:00.000Z Last candle: 2020-03-03T10:00:00.000Z Candles returned: 300\nFirst candle: 2020-03-03T11:00:00.000Z Last candle: 2020-03-15T22:00:00.000Z Candles returned: 300\nFirst candle: 2020-03-15T23:00:00.000Z Last candle: 2020-03-28T10:00:00.000Z Candles returned: 300\nFirst candle: 2020-03-28T11:00:00.000Z Last candle: 2020-04-09T22:00:00.000Z Candles returned: 300\nFirst candle: 2020-04-09T23:00:00.000Z Last candle: 2020-04-22T10:00:00.000Z Candles returned: 300\nFirst candle: 2020-04-22T11:00:00.000Z Last candle: 2020-04-30T22:00:00.000Z Candles returned: 204\n\u001b[36mDownload time was 21.56 secs\u001b[0m\n\u001b[36mWriting Data to Disk\u001b[0m\n\u001b[33mDownloading Historical Data XLM/EUR Since 2020-01-01T00:00:00Z in 1h Candles\u001b[0m\nFirst candle: 2020-01-01T00:00:00.000Z Last candle: 2020-01-13T11:00:00.000Z Candles returned: 300\nFirst candle: 2020-01-13T12:00:00.000Z Last candle: 2020-01-25T23:00:00.000Z Candles returned: 300\nFirst candle: 2020-01-26T00:00:00.000Z Last candle: 2020-02-07T11:00:00.000Z Candles returned: 298\nFirst candle: 2020-02-07T10:00:00.000Z Last candle: 2020-02-19T21:00:00.000Z Candles returned: 300\nFirst candle: 2020-02-19T22:00:00.000Z Last candle: 2020-03-03T09:00:00.000Z Candles returned: 300\nFirst candle: 2020-03-03T10:00:00.000Z Last candle: 2020-03-15T21:00:00.000Z Candles returned: 300\nFirst candle: 2020-03-15T22:00:00.000Z Last candle: 2020-03-28T09:00:00.000Z Candles returned: 300\nFirst candle: 2020-03-28T10:00:00.000Z Last candle: 2020-04-09T21:00:00.000Z Candles returned: 299\nFirst candle: 2020-04-09T21:00:00.000Z Last candle: 2020-04-22T08:00:00.000Z Candles returned: 300\nFirst candle: 2020-04-22T09:00:00.000Z Last candle: 2020-04-30T22:00:00.000Z Candles returned: 206\n\u001b[36mDownload time was 22.46 secs\u001b[0m\n\u001b[36mWriting Data to Disk\u001b[0m\n\u001b[33mDownloading Historical Data XLM/USD Since 2020-01-01T00:00:00Z in 1h Candles\u001b[0m\nFirst candle: 2020-01-01T00:00:00.000Z Last candle: 2020-01-13T11:00:00.000Z Candles returned: 300\nFirst candle: 2020-01-13T12:00:00.000Z Last candle: 2020-01-25T23:00:00.000Z Candles returned: 300\nFirst candle: 2020-01-26T00:00:00.000Z Last candle: 2020-02-07T11:00:00.000Z Candles returned: 298\nFirst candle: 2020-02-07T10:00:00.000Z Last candle: 2020-02-19T21:00:00.000Z Candles returned: 300\nFirst candle: 2020-02-19T22:00:00.000Z Last candle: 2020-03-03T09:00:00.000Z Candles returned: 300\nFirst candle: 2020-03-03T10:00:00.000Z Last candle: 2020-03-15T21:00:00.000Z Candles returned: 300\nFirst candle: 2020-03-15T22:00:00.000Z Last candle: 2020-03-28T09:00:00.000Z Candles returned: 300\nFirst candle: 2020-03-28T10:00:00.000Z Last candle: 2020-04-09T21:00:00.000Z Candles returned: 300\nFirst candle: 2020-04-09T22:00:00.000Z Last candle: 2020-04-22T09:00:00.000Z Candles returned: 300\nFirst candle: 2020-04-22T10:00:00.000Z Last candle: 2020-04-30T22:00:00.000Z Candles returned: 205\n\u001b[36mDownload time was 21.92 secs\u001b[0m\n\u001b[36mWriting Data to Disk\u001b[0m\n\u001b[33mDownloading Historical Data XRP/BTC Since 2020-01-01T00:00:00Z in 1h Candles\u001b[0m\nFirst candle: 2020-01-01T00:00:00.000Z Last candle: 2020-01-13T11:00:00.000Z Candles returned: 300\nFirst candle: 2020-01-13T12:00:00.000Z Last candle: 2020-01-25T23:00:00.000Z Candles returned: 300\nFirst candle: 2020-01-26T00:00:00.000Z Last candle: 2020-02-07T11:00:00.000Z Candles returned: 299\nFirst candle: 2020-02-07T11:00:00.000Z Last candle: 2020-02-19T22:00:00.000Z Candles returned: 300\nFirst candle: 2020-02-19T23:00:00.000Z Last candle: 2020-03-03T10:00:00.000Z Candles returned: 300\nFirst candle: 2020-03-03T11:00:00.000Z Last candle: 2020-03-15T22:00:00.000Z Candles returned: 300\nFirst candle: 2020-03-15T23:00:00.000Z Last candle: 2020-03-28T10:00:00.000Z Candles returned: 300\nFirst candle: 2020-03-28T11:00:00.000Z Last candle: 2020-04-09T22:00:00.000Z Candles returned: 300\nFirst candle: 2020-04-09T23:00:00.000Z Last candle: 2020-04-22T10:00:00.000Z Candles returned: 300\nFirst candle: 2020-04-22T11:00:00.000Z Last candle: 2020-04-30T22:00:00.000Z Candles returned: 204\n\u001b[36mDownload time was 22.42 secs\u001b[0m\n\u001b[36mWriting Data to Disk\u001b[0m\n\u001b[33mDownloading Historical Data XRP/EUR Since 2020-01-01T00:00:00Z in 1h Candles\u001b[0m\nFirst candle: 2020-01-01T00:00:00.000Z Last candle: 2020-01-13T11:00:00.000Z Candles returned: 300\nFirst candle: 2020-01-13T12:00:00.000Z Last candle: 2020-01-25T23:00:00.000Z Candles returned: 300\nFirst candle: 2020-01-26T00:00:00.000Z Last candle: 2020-02-07T11:00:00.000Z Candles returned: 299\nFirst candle: 2020-02-07T11:00:00.000Z Last candle: 2020-02-19T22:00:00.000Z Candles returned: 300\nFirst candle: 2020-02-19T23:00:00.000Z Last candle: 2020-03-03T10:00:00.000Z Candles returned: 300\nFirst candle: 2020-03-03T11:00:00.000Z Last candle: 2020-03-15T22:00:00.000Z Candles returned: 300\nFirst candle: 2020-03-15T23:00:00.000Z Last candle: 2020-03-28T10:00:00.000Z Candles returned: 300\nFirst candle: 2020-03-28T11:00:00.000Z Last candle: 2020-04-09T22:00:00.000Z Candles returned: 300\nFirst candle: 2020-04-09T23:00:00.000Z Last candle: 2020-04-22T10:00:00.000Z Candles returned: 300\nFirst candle: 2020-04-22T11:00:00.000Z Last candle: 2020-04-30T22:00:00.000Z Candles returned: 204\n\u001b[36mDownload time was 21.98 secs\u001b[0m\n\u001b[36mWriting Data to Disk\u001b[0m\n\u001b[33mDownloading Historical Data XRP/USD Since 2020-01-01T00:00:00Z in 1h Candles\u001b[0m\nFirst candle: 2020-01-01T00:00:00.000Z Last candle: 2020-01-13T11:00:00.000Z Candles returned: 300\nFirst candle: 2020-01-13T12:00:00.000Z Last candle: 2020-01-25T23:00:00.000Z Candles returned: 300\nFirst candle: 2020-01-26T00:00:00.000Z Last candle: 2020-02-07T11:00:00.000Z Candles returned: 299\nFirst candle: 2020-02-07T11:00:00.000Z Last candle: 2020-02-19T22:00:00.000Z Candles returned: 300\nFirst candle: 2020-02-19T23:00:00.000Z Last candle: 2020-03-03T10:00:00.000Z Candles returned: 300\nFirst candle: 2020-03-03T11:00:00.000Z Last candle: 2020-03-15T22:00:00.000Z Candles returned: 300\nFirst candle: 2020-03-15T23:00:00.000Z Last candle: 2020-03-28T10:00:00.000Z Candles returned: 300\nFirst candle: 2020-03-28T11:00:00.000Z Last candle: 2020-04-09T22:00:00.000Z Candles returned: 300\nFirst candle: 2020-04-09T23:00:00.000Z Last candle: 2020-04-22T10:00:00.000Z Candles returned: 300\nFirst candle: 2020-04-22T11:00:00.000Z Last candle: 2020-04-30T22:00:00.000Z Candles returned: 204\n\u001b[36mDownload time was 21.98 secs\u001b[0m\n\u001b[36mWriting Data to Disk\u001b[0m\n\u001b[33mDownloading Historical Data XTZ/BTC Since 2020-01-01T00:00:00Z in 1h Candles\u001b[0m\nFirst candle: 2020-01-01T00:00:00.000Z Last candle: 2020-01-13T11:00:00.000Z Candles returned: 300\nFirst candle: 2020-01-13T12:00:00.000Z Last candle: 2020-01-25T23:00:00.000Z Candles returned: 300\nFirst candle: 2020-01-26T00:00:00.000Z Last candle: 2020-02-07T11:00:00.000Z Candles returned: 298\nFirst candle: 2020-02-07T10:00:00.000Z Last candle: 2020-02-19T21:00:00.000Z Candles returned: 300\nFirst candle: 2020-02-19T22:00:00.000Z Last candle: 2020-03-03T09:00:00.000Z Candles returned: 300\nFirst candle: 2020-03-03T10:00:00.000Z Last candle: 2020-03-15T21:00:00.000Z Candles returned: 300\nFirst candle: 2020-03-15T22:00:00.000Z Last candle: 2020-03-28T09:00:00.000Z Candles returned: 300\nFirst candle: 2020-03-28T10:00:00.000Z Last candle: 2020-04-09T21:00:00.000Z Candles returned: 300\nFirst candle: 2020-04-09T22:00:00.000Z Last candle: 2020-04-22T09:00:00.000Z Candles returned: 300\nFirst candle: 2020-04-22T10:00:00.000Z Last candle: 2020-04-30T22:00:00.000Z Candles returned: 205\n\u001b[36mDownload time was 22.75 secs\u001b[0m\n\u001b[36mWriting Data to Disk\u001b[0m\n\u001b[33mXTZ/USD NOT up to date... --> 2020-04-02 21:00:00\u001b[0m\n\u001b[33mDownloading Historical Data XTZ/USD Since 2020-04-02 21:00:00 in 1h Candles\u001b[0m\nFirst candle: 2020-04-03T03:00:00.000Z Last candle: 2020-04-15T14:00:00.000Z Candles returned: 300\nFirst candle: 2020-04-15T15:00:00.000Z Last candle: 2020-04-28T02:00:00.000Z Candles returned: 300\nFirst candle: 2020-04-28T03:00:00.000Z Last candle: 2020-04-30T22:00:00.000Z Candles returned: 68\n\u001b[36mDownload time was 6.42 secs\u001b[0m\n\u001b[36mWriting Data to Disk\u001b[0m\n\u001b[33mZEC/BTC NOT up to date... --> 2020-04-02 21:00:00\u001b[0m\n\u001b[33mDownloading Historical Data ZEC/BTC Since 2020-04-02 21:00:00 in 1h Candles\u001b[0m\nFirst candle: 2020-04-03T03:00:00.000Z Last candle: 2020-04-15T14:00:00.000Z Candles returned: 300\nFirst candle: 2020-04-15T15:00:00.000Z Last candle: 2020-04-28T02:00:00.000Z Candles returned: 300\nFirst candle: 2020-04-28T03:00:00.000Z Last candle: 2020-04-30T22:00:00.000Z Candles returned: 68\n\u001b[36mDownload time was 6.43 secs\u001b[0m\n\u001b[36mWriting Data to Disk\u001b[0m\n\u001b[33mZEC/USDC NOT up to date... --> 2020-04-02 21:00:00\u001b[0m\n\u001b[33mDownloading Historical Data ZEC/USDC Since 2020-04-02 21:00:00 in 1h Candles\u001b[0m\nFirst candle: 2020-04-03T03:00:00.000Z Last candle: 2020-04-15T14:00:00.000Z Candles returned: 300\nFirst candle: 2020-04-15T15:00:00.000Z Last candle: 2020-04-28T02:00:00.000Z Candles returned: 300\nFirst candle: 2020-04-28T03:00:00.000Z Last candle: 2020-04-30T22:00:00.000Z Candles returned: 68\n\u001b[36mDownload time was 7.24 secs\u001b[0m\n\u001b[36mWriting Data to Disk\u001b[0m\n\u001b[33mDownloading Historical Data ZRX/BTC Since 2020-01-01T00:00:00Z in 1h Candles\u001b[0m\nFirst candle: 2020-01-01T00:00:00.000Z Last candle: 2020-01-13T11:00:00.000Z Candles returned: 300\nFirst candle: 2020-01-13T12:00:00.000Z Last candle: 2020-01-25T23:00:00.000Z Candles returned: 300\nFirst candle: 2020-01-26T00:00:00.000Z Last candle: 2020-02-07T11:00:00.000Z Candles returned: 299\nFirst candle: 2020-02-07T11:00:00.000Z Last candle: 2020-02-19T22:00:00.000Z Candles returned: 300\nFirst candle: 2020-02-19T23:00:00.000Z Last candle: 2020-03-03T10:00:00.000Z Candles returned: 300\nFirst candle: 2020-03-03T11:00:00.000Z Last candle: 2020-03-15T22:00:00.000Z Candles returned: 300\nFirst candle: 2020-03-15T23:00:00.000Z Last candle: 2020-03-28T10:00:00.000Z Candles returned: 300\nFirst candle: 2020-03-28T11:00:00.000Z Last candle: 2020-04-09T22:00:00.000Z Candles returned: 300\nFirst candle: 2020-04-09T23:00:00.000Z Last candle: 2020-04-22T10:00:00.000Z Candles returned: 300\nFirst candle: 2020-04-22T11:00:00.000Z Last candle: 2020-04-30T22:00:00.000Z Candles returned: 204\n\u001b[36mDownload time was 21.99 secs\u001b[0m\n\u001b[36mWriting Data to Disk\u001b[0m\n\u001b[33mZRX/EUR NOT up to date... --> 2020-04-02 21:00:00\u001b[0m\n\u001b[33mDownloading Historical Data ZRX/EUR Since 2020-04-02 21:00:00 in 1h Candles\u001b[0m\nFirst candle: 2020-04-03T03:00:00.000Z Last candle: 2020-04-15T14:00:00.000Z Candles returned: 295\nFirst candle: 2020-04-15T10:00:00.000Z Last candle: 2020-04-27T21:00:00.000Z Candles returned: 294\nFirst candle: 2020-04-27T16:00:00.000Z Last candle: 2020-04-30T22:00:00.000Z Candles returned: 79\n\u001b[36mDownload time was 6.75 secs\u001b[0m\n\u001b[36mWriting Data to Disk\u001b[0m\n\u001b[33mDownloading Historical Data ZRX/USD Since 2020-01-01T00:00:00Z in 1h Candles\u001b[0m\nFirst candle: 2020-01-01T00:00:00.000Z Last candle: 2020-01-13T11:00:00.000Z Candles returned: 300\nFirst candle: 2020-01-13T12:00:00.000Z Last candle: 2020-01-25T23:00:00.000Z Candles returned: 300\nFirst candle: 2020-01-26T00:00:00.000Z Last candle: 2020-02-07T11:00:00.000Z Candles returned: 299\nFirst candle: 2020-02-07T11:00:00.000Z Last candle: 2020-02-19T22:00:00.000Z Candles returned: 300\nFirst candle: 2020-02-19T23:00:00.000Z Last candle: 2020-03-03T10:00:00.000Z Candles returned: 300\nFirst candle: 2020-03-03T11:00:00.000Z Last candle: 2020-03-15T22:00:00.000Z Candles returned: 300\nFirst candle: 2020-03-15T23:00:00.000Z Last candle: 2020-03-28T10:00:00.000Z Candles returned: 300\nFirst candle: 2020-03-28T11:00:00.000Z Last candle: 2020-04-09T22:00:00.000Z Candles returned: 300\nFirst candle: 2020-04-09T23:00:00.000Z Last candle: 2020-04-22T10:00:00.000Z Candles returned: 300\nFirst candle: 2020-04-22T11:00:00.000Z Last candle: 2020-04-30T22:00:00.000Z Candles returned: 204\n\u001b[36mDownload time was 23.15 secs\u001b[0m\n\u001b[36mWriting Data to Disk\u001b[0m\n"
    }
   ],
   "source": [
    "await d.get_historical_update()"
   ]
  },
  {
   "cell_type": "code",
   "execution_count": null,
   "metadata": {},
   "outputs": [],
   "source": [
    "dataset = {}\n",
    "for i in d.markets:\n",
    "    try:\n",
    "        dataset[i] = ruckusCore.Data(i)\n",
    "    except:\n",
    "        print(f\"{i} didnt load\")"
   ]
  },
  {
   "cell_type": "code",
   "execution_count": null,
   "metadata": {},
   "outputs": [],
   "source": [
    "p = dataset['BTC/USDC']"
   ]
  },
  {
   "cell_type": "code",
   "execution_count": null,
   "metadata": {},
   "outputs": [],
   "source": [
    "c = p.candles"
   ]
  },
  {
   "cell_type": "code",
   "execution_count": null,
   "metadata": {},
   "outputs": [],
   "source": [
    "l = c['Close']"
   ]
  },
  {
   "cell_type": "code",
   "execution_count": null,
   "metadata": {},
   "outputs": [],
   "source": [
    "await p.plot()"
   ]
  },
  {
   "cell_type": "code",
   "execution_count": null,
   "metadata": {
    "scrolled": false
   },
   "outputs": [],
   "source": [
    "d_set = {}\n",
    "for k, v in dataset.items():\n",
    "    print( k )\n",
    "    ta = ruckusCore.TALib()\n",
    "    for h, i in ta.available.items():\n",
    "        try:\n",
    "            v.dataframe[ h ] = i( v.dataframe )\n",
    "            # print(f\"{h} works\")\n",
    "        except:\n",
    "            # print(f\"{h} isnt working\")\n",
    "            pass"
   ]
  },
  {
   "cell_type": "code",
   "execution_count": null,
   "metadata": {
    "scrolled": false
   },
   "outputs": [],
   "source": [
    "for k, v in dataset.items():\n",
    "    print(k)\n",
    "    print(v.dataframe.columns)\n",
    "    break"
   ]
  },
  {
   "cell_type": "code",
   "execution_count": null,
   "metadata": {
    "scrolled": false
   },
   "outputs": [],
   "source": [
    "df = dataset[list(dataset)[-1]].dataframe"
   ]
  },
  {
   "cell_type": "code",
   "execution_count": null,
   "metadata": {},
   "outputs": [],
   "source": [
    "for i in df.columns:\n",
    "    x = df[i]\n",
    "    x.plot()"
   ]
  },
  {
   "cell_type": "code",
   "execution_count": null,
   "metadata": {},
   "outputs": [],
   "source": [
    "candles = dataset[list(dataset)[-1]].make_candles(df)"
   ]
  },
  {
   "cell_type": "code",
   "execution_count": null,
   "metadata": {},
   "outputs": [],
   "source": [
    "candles.plot()"
   ]
  },
  {
   "cell_type": "code",
   "execution_count": null,
   "metadata": {},
   "outputs": [],
   "source": [
    "7/5 -1 "
   ]
  },
  {
   "cell_type": "code",
   "execution_count": null,
   "metadata": {},
   "outputs": [],
   "source": []
  }
 ],
 "metadata": {
  "kernelspec": {
   "display_name": "Python 3",
   "language": "python",
   "name": "python3"
  },
  "language_info": {
   "codemirror_mode": {
    "name": "ipython",
    "version": 3
   },
   "file_extension": ".py",
   "mimetype": "text/x-python",
   "name": "python",
   "nbconvert_exporter": "python",
   "pygments_lexer": "ipython3",
   "version": "3.8.2-final"
  }
 },
 "nbformat": 4,
 "nbformat_minor": 4
}